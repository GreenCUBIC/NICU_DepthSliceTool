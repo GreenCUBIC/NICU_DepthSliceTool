{
 "cells": [
  {
   "cell_type": "code",
   "execution_count": null,
   "metadata": {},
   "outputs": [],
   "source": [
    "from tkinter import Tk\n",
    "from tkinter.filedialog import askopenfilename\n",
    "import sys\n",
    "import pandas as pd\n",
    "import seaborn as sns\n",
    "import matplotlib.pyplot as plt\n",
    "import datetime\n",
    "from scipy.signal import find_peaks, butter, lfilter, decimate\n",
    "from scipy.fft import fft, ifft\n",
    "import math\n",
    "import numpy as np"
   ]
  },
  {
   "cell_type": "code",
   "execution_count": null,
   "metadata": {},
   "outputs": [],
   "source": [
    "def getPMDIRR(filename):\n",
    "    df_pmdi = pd.read_csv(filename)\n",
    "    df_pmdi['datetime'] = df_pmdi['TIME'].apply(lambda x: datetime.datetime.strptime(x, '%Y/%m/%d %H:%M:%S'))\n",
    "    df_pmdi['epoch'] = df_pmdi['datetime'].apply(lambda x: datetime.datetime.timestamp(x))\n",
    "    # print(df_pmdi['RESP'].unique())\n",
    "    df_pmdi = df_pmdi.drop(df_pmdi[df_pmdi['RESP'] == '^^'].index)\n",
    "    df_pmdi['RR'] = df_pmdi['RESP'].apply(lambda x: float(x))\n",
    "    return df_pmdi[['epoch', 'RR', 'datetime']]"
   ]
  },
  {
   "cell_type": "code",
   "execution_count": null,
   "metadata": {},
   "outputs": [],
   "source": [
    "def getDSTRR(filename):\n",
    "    df_dst = pd.read_csv(filename)\n",
    "    df_dst.drop(index=df_dst.index[0], axis=0, inplace=True)\n",
    "    df_dst.drop_duplicates(inplace=True)\n",
    "    df_dst.reset_index(drop=True, inplace=True)\n",
    "    # print(df_dst.loc[~df_dst['Timestamp'].str.endswith('0000'), 'Timestamp'].apply(lambda x:))\n",
    "    # df_dst['Timestamp'] = df_dst.loc[~df_dst['Timestamp'].str.contains('0000'), 'Timestamp'].apply(lambda x: x+'.000000')\n",
    "    df_dst['Timestamp'] = df_dst['Timestamp'].apply(lambda x: x if x.endswith('0000') else x + '.000000')\n",
    "    df_dst['Timestamp'] = df_dst['Timestamp'].apply(lambda x: datetime.datetime.strptime(x, '%Y-%m-%d %H:%M:%S.%f') - pd.Timedelta('05:00:00'))\n",
    "    return df_dst"
   ]
  },
  {
   "cell_type": "code",
   "execution_count": null,
   "metadata": {},
   "outputs": [],
   "source": [
    "def selectFile():\n",
    "    root = Tk()\n",
    "    root.withdraw()\n",
    "    root.overrideredirect(True)\n",
    "    root.geometry('0x0+0+0')\n",
    "    root.deiconify()\n",
    "    root.lift()\n",
    "    root.focus_force()\n",
    "    filename = askopenfilename(filetypes=[(\"Comma Seperated Values File\", \".csv\")], parent=root, initialdir=r\"\\\\134.117.64.31\\\\Main Storage\")\n",
    "    root.destroy()\n",
    "    if not filename:\n",
    "        sys.exit(\"No file selected\")\n",
    "\n",
    "    return filename"
   ]
  },
  {
   "cell_type": "code",
   "execution_count": null,
   "metadata": {},
   "outputs": [],
   "source": [
    "df_PMDIRR = getPMDIRR(selectFile())\n",
    "df_PMDIRR"
   ]
  },
  {
   "cell_type": "code",
   "execution_count": null,
   "metadata": {},
   "outputs": [],
   "source": [
    "df_DSTRR = getDSTRR(selectFile())\n",
    "df_test = df_DSTRR.head(32)\n",
    "print(df_test)"
   ]
  },
  {
   "cell_type": "code",
   "execution_count": null,
   "metadata": {},
   "outputs": [],
   "source": [
    "df_DSTRR['Timestamp']"
   ]
  },
  {
   "cell_type": "code",
   "execution_count": null,
   "metadata": {},
   "outputs": [],
   "source": [
    "testRec = df_DSTRR['Timestamp'].iloc[0].to_pydatetime()\n",
    "print(testRec)\n",
    "print(type(testRec))"
   ]
  },
  {
   "cell_type": "code",
   "execution_count": null,
   "metadata": {},
   "outputs": [],
   "source": [
    "df_PMDIRR_seg = df_PMDIRR.loc[df_PMDIRR['datetime'] >= df_DSTRR['Timestamp'].iloc[0].to_pydatetime()]\n",
    "df_PMDIRR_seg = df_PMDIRR_seg.loc[df_PMDIRR_seg['datetime'] <= df_DSTRR['Timestamp'].iloc[-1].to_pydatetime()]\n",
    "df_PMDIRR_seg.dropna(subset=['RR'], inplace=True)"
   ]
  },
  {
   "cell_type": "code",
   "execution_count": null,
   "metadata": {},
   "outputs": [],
   "source": [
    "sns.set_theme(style='darkgrid')\n",
    "g = sns.relplot(x=\"datetime\", y=\"RR\", kind=\"line\", data=df_PMDIRR_seg, height=7.5)\n",
    "g.figure.autofmt_xdate()"
   ]
  },
  {
   "cell_type": "code",
   "execution_count": null,
   "metadata": {},
   "outputs": [],
   "source": [
    "# df_DSTRR_seg = df_DSTRR.loc[df_DSTRR['datetime'] >= datetime.datetime.fromisoformat('2019-01-07T12:23:40')]\n",
    "print(\"PMDI RR first record: {}\\nDST Avg Torso Depth first record: {}\".format(df_PMDIRR_seg.iloc[0], df_DSTRR.iloc[0]))\n",
    "print(\"PMDI RR last record: {}\\nDST Avg Torso Depth last record: {}\".format(df_PMDIRR_seg.iloc[-1], df_DSTRR.iloc[-1]))"
   ]
  },
  {
   "cell_type": "code",
   "execution_count": null,
   "metadata": {},
   "outputs": [],
   "source": [
    "sns.set_theme(style='darkgrid')\n",
    "g = sns.relplot(x='Timestamp', y='ROI Mean Depth', kind='line', data=df_DSTRR, height=7.5)\n",
    "g.figure.autofmt_xdate()"
   ]
  },
  {
   "cell_type": "code",
   "execution_count": null,
   "metadata": {},
   "outputs": [],
   "source": [
    "sns.set_theme(style='darkgrid')\n",
    "g = sns.relplot(x='Timestamp', y='Total Mean Depth', kind='line', data=df_DSTRR, height=7.5)\n",
    "g.figure.autofmt_xdate()"
   ]
  },
  {
   "cell_type": "code",
   "execution_count": null,
   "metadata": {},
   "outputs": [],
   "source": [
    "df_DSTRR.head()"
   ]
  },
  {
   "cell_type": "code",
   "execution_count": null,
   "metadata": {},
   "outputs": [],
   "source": [
    "# Use band pass filter to remove high and low frequency artifacts;\n",
    "def butter_bandpass(lowCut, highCut, fs, order=2):\n",
    "    nyq = 0.5 * fs\n",
    "    low = lowCut/nyq\n",
    "    high = highCut/nyq\n",
    "    b, a = butter(order, [low, high], btype='band')\n",
    "    return b, a\n",
    "\n",
    "def butter_bandpass_filter(data, lowCut, highCut, fs, order=2):\n",
    "    b, a = butter_bandpass(lowCut, highCut, fs, order=order)\n",
    "    y = lfilter(b, a, data)\n",
    "    return y\n",
    "\n",
    "lowFreq = 0.35\n",
    "highFreq = 1.8\n",
    "fs = 20"
   ]
  },
  {
   "cell_type": "code",
   "execution_count": null,
   "metadata": {},
   "outputs": [],
   "source": [
    "# Find RR\n",
    "# Since framerate is 20 FPS, each second contains 20 samples\n",
    "# Each peak needs to be a minimum of 5 samples away from the last\n",
    "# Works out to a maximum BPM of 150 (Neonatal limit is around 135 BPM)\n",
    "def estRR_timeDomain(df, window=150):\n",
    "    estimatedRRs = []\n",
    "    timestamps = []\n",
    "    for window in df.rolling(window):\n",
    "        windowMean = window['Mean Depth'].mean()\n",
    "        window.loc[:, 'Loaded Depth'] = window['Mean Depth'].apply(lambda x: x - windowMean)\n",
    "        window.loc[:, 'Filtered Signal'] = butter_bandpass_filter(window['Loaded Depth'], lowFreq, highFreq, fs)\n",
    "        \n",
    "        peaks, peak_props = find_peaks(window['Filtered Signal'], distance=5)\n",
    "        if len(peaks) > 1:\n",
    "            estRR = (((len(peaks) - 1) * 20) / (peaks[-1] - peaks[0])) * 60\n",
    "            estimatedRRs.append(estRR)\n",
    "            timestamps.append(window.iloc[-1]['Timestamp'])\n",
    "\n",
    "    d = {'timestamps': timestamps, 'RR': estimatedRRs}\n",
    "    df_estimatedRRs = pd.DataFrame(d)\n",
    "    return df_estimatedRRs"
   ]
  },
  {
   "cell_type": "code",
   "execution_count": null,
   "metadata": {},
   "outputs": [],
   "source": [
    "df_DSTRR_ROI = df_DSTRR[['Timestamp', 'ROI Mean Depth']].copy()\n",
    "df_DSTRR_ROI.rename(columns = {'ROI Mean Depth':'Mean Depth'}, inplace = True)\n",
    "df_est_td_ROI = estRR_timeDomain(df_DSTRR_ROI)\n",
    "df_est_td_ROI.drop_duplicates(inplace=True)\n",
    "df_est_td_ROI.reset_index(drop=True, inplace=True)\n",
    "\n",
    "\n",
    "print(df_est_td_ROI.head())"
   ]
  },
  {
   "cell_type": "code",
   "execution_count": null,
   "metadata": {},
   "outputs": [],
   "source": [
    "df_DSTRR_Total = df_DSTRR[['Timestamp', 'Total Mean Depth']].copy()\n",
    "df_DSTRR_Total.rename(columns = {'Total Mean Depth':'Mean Depth'}, inplace = True)\n",
    "df_est_td_Total = estRR_timeDomain(df_DSTRR_Total)\n",
    "df_est_td_Total.drop_duplicates(inplace=True)\n",
    "df_est_td_Total.reset_index(drop=True, inplace=True)\n",
    "\n",
    "\n",
    "print(df_est_td_Total.head())"
   ]
  },
  {
   "cell_type": "code",
   "execution_count": null,
   "metadata": {},
   "outputs": [],
   "source": [
    "def nextpow2(x):\n",
    "    x = int(x)\n",
    "    return 1 if x == 0 else 2**(x-1).bit_length()"
   ]
  },
  {
   "cell_type": "code",
   "execution_count": null,
   "metadata": {},
   "outputs": [],
   "source": [
    "# Find RR using Amente's frequency domain method:\n",
    "def estRR_freqDomain(df, window=1024):\n",
    "    estimatedRRs = []\n",
    "    timestamps = []\n",
    "    for window in df.rolling(window):\n",
    "        windowMean = window['Mean Depth'].mean()\n",
    "        window.loc[:, 'Loaded Depth'] = window['Mean Depth'].apply(lambda x: x - windowMean)\n",
    "        window.loc[:, 'Filtered Signal'] = butter_bandpass_filter(window['Loaded Depth'], lowFreq, highFreq, fs)\n",
    "\n",
    "        L1 = len(window['Filtered Signal'])\n",
    "        n1 = nextpow2(max(L1, (60*fs)))\n",
    "        fft_signal = fft(window['Filtered Signal'].values, n=n1)\n",
    "        f = fs * (np.array(range(int(n1/2) + 1))) / n1\n",
    "        P = np.abs(fft_signal/n1)\n",
    "        P1 = P[0:int(n1/2)]\n",
    "        P1[1:-1] = 2 * P1[1:-1]\n",
    "\n",
    "        largestPeak_idx = P.argmax()\n",
    "        if largestPeak_idx.size != 1:\n",
    "            largestPeak_idx = largestPeak_idx[0]\n",
    "\n",
    "        estRR = f[largestPeak_idx] * 60\n",
    "        estimatedRRs.append(estRR)\n",
    "        timestamps.append(window.iloc[-1]['Timestamp'])\n",
    "\n",
    "    d = {'timestamps': timestamps, 'RR': estimatedRRs}\n",
    "    df_estimatedRRs = pd.DataFrame(d)\n",
    "    return df_estimatedRRs"
   ]
  },
  {
   "cell_type": "code",
   "execution_count": null,
   "metadata": {},
   "outputs": [],
   "source": [
    "df_est_fd_ROI = estRR_freqDomain(df_DSTRR_ROI)\n",
    "df_est_fd_ROI.drop_duplicates(inplace=True)\n",
    "df_est_fd_ROI.reset_index(drop=True, inplace=True)\n",
    "\n",
    "\n",
    "print(df_est_fd_ROI.head(32))"
   ]
  },
  {
   "cell_type": "code",
   "execution_count": null,
   "metadata": {},
   "outputs": [],
   "source": [
    "df_est_fd_Total = estRR_freqDomain(df_DSTRR_Total)\n",
    "df_est_fd_Total.drop_duplicates(inplace=True)\n",
    "df_est_fd_Total.reset_index(drop=True, inplace=True)\n",
    "\n",
    "\n",
    "print(df_est_fd_Total.head(32))"
   ]
  },
  {
   "cell_type": "code",
   "execution_count": null,
   "metadata": {},
   "outputs": [],
   "source": [
    "g = sns.relplot(x='timestamps', y='RR', kind='line', data=df_est_td_ROI, height=7.5)\n",
    "g.figure.autofmt_xdate()"
   ]
  },
  {
   "cell_type": "code",
   "execution_count": null,
   "metadata": {},
   "outputs": [],
   "source": [
    "g = sns.relplot(x='timestamps', y='RR', kind='line', data=df_est_td_Total, height=7.5)\n",
    "g.figure.autofmt_xdate()"
   ]
  },
  {
   "cell_type": "code",
   "execution_count": null,
   "metadata": {},
   "outputs": [],
   "source": [
    "g = sns.relplot(x='timestamps', y='RR', kind='line', data=df_est_fd_ROI, height=7.5)\n",
    "g.figure.autofmt_xdate()"
   ]
  },
  {
   "cell_type": "code",
   "execution_count": null,
   "metadata": {},
   "outputs": [],
   "source": [
    "g = sns.relplot(x='timestamps', y='RR', kind='line', data=df_est_fd_Total, height=7.5)\n",
    "g.figure.autofmt_xdate()"
   ]
  },
  {
   "cell_type": "code",
   "execution_count": null,
   "metadata": {},
   "outputs": [],
   "source": [
    "df_PMDIRR_seg.describe()"
   ]
  },
  {
   "cell_type": "code",
   "execution_count": null,
   "metadata": {},
   "outputs": [],
   "source": [
    "df_est_td_ROI.loc[:, 'timestamps'] = df_est_td_ROI['timestamps'].apply(lambda x: x.round(freq='S'))\n",
    "df_est_td_ROI.drop_duplicates(subset='timestamps', inplace=True)\n",
    "df_est_td_ROI.reset_index(drop=True, inplace=True)\n",
    "df_est_td_ROI.describe()"
   ]
  },
  {
   "cell_type": "code",
   "execution_count": null,
   "metadata": {},
   "outputs": [],
   "source": [
    "df_est_td_Total.loc[:, 'timestamps'] = df_est_td_Total['timestamps'].apply(lambda x: x.round(freq='S'))\n",
    "df_est_td_Total.drop_duplicates(subset='timestamps', inplace=True)\n",
    "df_est_td_Total.reset_index(drop=True, inplace=True)\n",
    "df_est_td_Total.describe()"
   ]
  },
  {
   "cell_type": "code",
   "execution_count": null,
   "metadata": {},
   "outputs": [],
   "source": [
    "df_est_fd_ROI.loc[:, 'timestamps'] = df_est_fd_ROI['timestamps'].apply(lambda x: x.round(freq='S'))\n",
    "df_est_fd_ROI.drop_duplicates(subset='timestamps', inplace=True)\n",
    "df_est_fd_ROI.reset_index(drop=True, inplace=True)\n",
    "df_est_fd_ROI.describe()"
   ]
  },
  {
   "cell_type": "code",
   "execution_count": null,
   "metadata": {},
   "outputs": [],
   "source": [
    "df_est_fd_Total.loc[:, 'timestamps'] = df_est_fd_Total['timestamps'].apply(lambda x: x.round(freq='S'))\n",
    "df_est_fd_Total.drop_duplicates(subset='timestamps', inplace=True)\n",
    "df_est_fd_Total.reset_index(drop=True, inplace=True)\n",
    "df_est_fd_Total.describe()"
   ]
  },
  {
   "cell_type": "code",
   "execution_count": null,
   "metadata": {},
   "outputs": [],
   "source": [
    "df_est_td_ROI = df_est_td_ROI[df_est_td_ROI['timestamps'].isin(df_PMDIRR_seg['datetime'])]\n",
    "print(df_est_td_ROI.describe())\n",
    "\n",
    "df_est_fd_ROI = df_est_fd_ROI[df_est_fd_ROI['timestamps'].isin(df_est_td_ROI['timestamps'])]\n",
    "print(df_est_fd_ROI.describe())\n",
    "\n",
    "df_PMDIRR_seg = df_PMDIRR_seg[df_PMDIRR_seg['datetime'].isin(df_est_td_ROI['timestamps'])]\n",
    "print(df_PMDIRR_seg.describe())\n",
    "\n",
    "df_est_td_Total = df_est_td_Total[df_est_td_Total['timestamps'].isin(df_PMDIRR_seg['datetime'])]\n",
    "print(df_est_td_Total.describe())\n",
    "\n",
    "df_est_fd_Total = df_est_fd_Total[df_est_fd_Total['timestamps'].isin(df_est_td_Total['timestamps'])]\n",
    "print(df_est_fd_Total.describe())\n",
    "\n",
    "df_PMDIRR_seg = df_PMDIRR_seg[df_PMDIRR_seg['datetime'].isin(df_est_td_Total['timestamps'])]\n",
    "print(df_PMDIRR_seg.describe())"
   ]
  },
  {
   "cell_type": "code",
   "execution_count": null,
   "metadata": {},
   "outputs": [],
   "source": [
    "def MAE_rr(est_rr, pmdi_rr, sec=0):\n",
    "    # Downsample records so that both sets have the same number\n",
    "    # All record timestamps should be available in both sets as well\n",
    "    est_rr = est_rr[est_rr['timestamps'].isin(pmdi_rr['datetime'])]\n",
    "    pmdi_rr = pmdi_rr[pmdi_rr['datetime'].isin(est_rr['timestamps'])]\n",
    "    # print(len(pmdi_rr))\n",
    "\n",
    "    if sec == 0 or sec > est_rr.shape[0]:\n",
    "        sec = est_rr.shape[0]\n",
    "\n",
    "    j = 0\n",
    "    MAEs = []\n",
    "    while j < pmdi_rr.shape[0]:\n",
    "        for i in range(j+1, pmdi_rr.shape[0]):\n",
    "            if (pmdi_rr['datetime'].iloc[i] - pmdi_rr['datetime'].iloc[j]).total_seconds() >= sec:\n",
    "                interval = i - j + 1\n",
    "                # print(interval)\n",
    "                mae = (abs(np.sum(est_rr['RR'].iloc[j:i+1].values - pmdi_rr['RR'].iloc[j:i+1].values))) / interval\n",
    "                MAEs.append(mae)\n",
    "                if i == pmdi_rr.shape[0] - 1:\n",
    "                    j = i + 1\n",
    "                else:\n",
    "                    j = i\n",
    "                break\n",
    "            elif i == pmdi_rr.shape[0] - 1:\n",
    "                j = pmdi_rr.shape[0]\n",
    "                break\n",
    "    return MAEs"
   ]
  },
  {
   "cell_type": "code",
   "execution_count": null,
   "metadata": {},
   "outputs": [],
   "source": [
    "def pae_calc(mae_list, threshold=5):\n",
    "    MAEs = np.array(mae_list)\n",
    "    MAE_filter = MAEs <= threshold\n",
    "    percentageAcceptable = (MAEs[MAE_filter].size) / MAEs.size\n",
    "    return percentageAcceptable\n",
    "\n",
    "secRange = 21"
   ]
  },
  {
   "cell_type": "code",
   "execution_count": null,
   "metadata": {},
   "outputs": [],
   "source": [
    "print(\"Time domain method ROI\")\n",
    "PAEs_td_roi = []\n",
    "for sec in range(1, secRange):\n",
    "    mae = MAE_rr(df_est_td_ROI, df_PMDIRR_seg, sec=sec)\n",
    "    pae = pae_calc(mae, threshold=5)\n",
    "    PAEs_td_roi.append(pae)\n",
    "\n",
    "    print(\"For sec={}; pae={}\".format(sec, pae))"
   ]
  },
  {
   "cell_type": "code",
   "execution_count": null,
   "metadata": {},
   "outputs": [],
   "source": [
    "print(\"Time domain method Total\")\n",
    "PAEs_td_total = []\n",
    "for sec in range(1, secRange):\n",
    "    mae = MAE_rr(df_est_td_Total, df_PMDIRR_seg, sec=sec)\n",
    "    pae = pae_calc(mae, threshold=5)\n",
    "    PAEs_td_total.append(pae)\n",
    "\n",
    "    print(\"For sec={}; pae={}\".format(sec, pae))"
   ]
  },
  {
   "cell_type": "code",
   "execution_count": null,
   "metadata": {},
   "outputs": [],
   "source": [
    "print(\"Freq domain method ROI\")\n",
    "PAEs_fd_roi = []\n",
    "for sec in range(1, secRange):\n",
    "    mae = MAE_rr(df_est_fd_ROI, df_PMDIRR_seg, sec=sec)\n",
    "    pae = pae_calc(mae, threshold=5)\n",
    "    PAEs_fd_roi.append(pae)\n",
    "\n",
    "    print(\"For sec={}; pae={}\".format(sec, pae))"
   ]
  },
  {
   "cell_type": "code",
   "execution_count": null,
   "metadata": {},
   "outputs": [],
   "source": [
    "print(\"Freq domain method Total\")\n",
    "PAEs_fd_total = []\n",
    "for sec in range(1, secRange):\n",
    "    mae = MAE_rr(df_est_fd_Total, df_PMDIRR_seg, sec=sec)\n",
    "    pae = pae_calc(mae, threshold=5)\n",
    "    PAEs_fd_total.append(pae)\n",
    "\n",
    "    print(\"For sec={}; pae={}\".format(sec, pae))"
   ]
  },
  {
   "cell_type": "code",
   "execution_count": null,
   "metadata": {},
   "outputs": [],
   "source": [
    "df_pae_csv = pd.DataFrame({'ROI Depth TD': PAEs_td_roi}, index=range(1,21))\n",
    "df_pae_csv['ROI Depth FD'] = PAEs_fd_roi\n",
    "df_pae_csv['Total Depth TD'] = PAEs_td_total\n",
    "df_pae_csv['Total Depth FD'] = PAEs_fd_total"
   ]
  },
  {
   "cell_type": "code",
   "execution_count": null,
   "metadata": {},
   "outputs": [],
   "source": [
    "df_pae_csv.to_csv('df_pae.csv')"
   ]
  },
  {
   "cell_type": "code",
   "execution_count": null,
   "metadata": {},
   "outputs": [],
   "source": [
    "df_est_td_ROI.to_csv('df_est_td_roi.csv')\n",
    "df_est_fd_ROI.to_csv('df_est_fd_roi.csv')\n",
    "df_est_td_Total.to_csv('df_est_td_total.csv')\n",
    "df_est_fd_Total.to_csv('df_est_fd_total.csv')\n",
    "df_PMDIRR_seg.to_csv('df_pmdi_seg.csv')"
   ]
  },
  {
   "cell_type": "code",
   "execution_count": null,
   "metadata": {},
   "outputs": [],
   "source": [
    "mae = MAE_rr(df_est_fd_ROI, df_PMDIRR_seg, sec=10)"
   ]
  },
  {
   "cell_type": "code",
   "execution_count": null,
   "metadata": {},
   "outputs": [],
   "source": [
    "def MAE_rr_seg(est_rr, pmdi_rr, sec=0):\n",
    "    # Downsample records so that both sets have the same number\n",
    "    # All record timestamps should be available in both sets as well\n",
    "    df_acc = pd.DataFrame()\n",
    "    est_rr = est_rr[est_rr['timestamps'].isin(pmdi_rr['datetime'])]\n",
    "    pmdi_rr = pmdi_rr[pmdi_rr['datetime'].isin(est_rr['timestamps'])]\n",
    "    print(len(pmdi_rr))\n",
    "\n",
    "    if sec == 0 or sec > est_rr.shape[0]:\n",
    "        sec = est_rr.shape[0]\n",
    "\n",
    "    j = 0\n",
    "    MAEs = []\n",
    "    while j < pmdi_rr.shape[0]:\n",
    "        for i in range(j+1, pmdi_rr.shape[0]):\n",
    "            if (pmdi_rr['datetime'].iloc[i] - pmdi_rr['datetime'].iloc[j]).total_seconds() >= sec:\n",
    "                interval = i - j + 1\n",
    "                print(interval)\n",
    "                mae = (abs(np.sum(est_rr['RR'].iloc[j:i+1].values - pmdi_rr['RR'].iloc[j:i+1].values))) / interval\n",
    "                MAEs.append(mae)\n",
    "                data = pd.DataFrame([{\"i\": i, \"j\": j, \"mae\": mae}])\n",
    "                df_acc = df_acc.append(data)\n",
    "                if i == pmdi_rr.shape[0] - 1:\n",
    "                    j = i + 1\n",
    "                else:\n",
    "                    j = i\n",
    "                break\n",
    "            elif i == pmdi_rr.shape[0] - 1:\n",
    "                j = pmdi_rr.shape[0]\n",
    "                break\n",
    "    return MAEs, df_acc"
   ]
  },
  {
   "cell_type": "code",
   "execution_count": null,
   "metadata": {},
   "outputs": [],
   "source": [
    "# maes, df_acc = MAE_rr(df_p21_roi_fd_rr, df_p21_pmdi_rr, sec=25)"
   ]
  },
  {
   "cell_type": "code",
   "execution_count": null,
   "metadata": {},
   "outputs": [],
   "source": [
    "# df_est_fd"
   ]
  }
 ],
 "metadata": {
  "interpreter": {
   "hash": "1d411317a9b538bfab249e042577597e4218713d6e01ada3c04dfbf3cebbb898"
  },
  "kernelspec": {
   "display_name": "Python 3.8.10 64-bit ('RS': conda)",
   "language": "python",
   "name": "python3"
  },
  "language_info": {
   "codemirror_mode": {
    "name": "ipython",
    "version": 3
   },
   "file_extension": ".py",
   "mimetype": "text/x-python",
   "name": "python",
   "nbconvert_exporter": "python",
   "pygments_lexer": "ipython3",
   "version": "3.8.10"
  },
  "orig_nbformat": 4
 },
 "nbformat": 4,
 "nbformat_minor": 2
}
